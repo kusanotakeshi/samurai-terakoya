{
  "nbformat": 4,
  "nbformat_minor": 0,
  "metadata": {
    "colab": {
      "provenance": [],
      "gpuType": "T4"
    },
    "kernelspec": {
      "name": "python3",
      "display_name": "Python 3"
    },
    "language_info": {
      "name": "python"
    },
    "accelerator": "GPU"
  },
  "cells": [
    {
      "cell_type": "code",
      "source": [
        "def calculate_tax_included_price(price, tax_rate):\n",
        "\n",
        "    tax_amount = price * (tax_rate / 100)  # 消費税額を計算\n",
        "    tax_included_price = price + tax_amount  # 消費税込みの価格を計算\n",
        "    return tax_included_price  # 消費税込みの価格を返す\n",
        "\n",
        "\n",
        "# 商品の税抜き価格と消費税率を設定\n",
        "price = 110\n",
        "tax_rate = 10\n",
        "\n",
        "# 関数を呼び出して消費税込みの価格を計算\n",
        "tax_included_price = calculate_tax_included_price(price, tax_rate)\n",
        "\n",
        "# 結果を表示\n",
        "print(f\"商品の税抜き価格: {price}円\")\n",
        "print(f\"消費税率: {tax_rate}%\")\n",
        "print(f\"消費税込みの価格: {tax_included_price}円\")\n"
      ],
      "metadata": {
        "colab": {
          "base_uri": "https://localhost:8080/"
        },
        "id": "XkH11dJJu0hc",
        "outputId": "bab8f06d-95ad-493f-dc4d-97669b481364"
      },
      "execution_count": 6,
      "outputs": [
        {
          "output_type": "stream",
          "name": "stdout",
          "text": [
            "商品の税抜き価格: 110円\n",
            "消費税率: 10%\n",
            "消費税込みの価格: 121.0円\n"
          ]
        }
      ]
    }
  ]
}