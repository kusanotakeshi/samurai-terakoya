{
  "nbformat": 4,
  "nbformat_minor": 0,
  "metadata": {
    "colab": {
      "provenance": [],
      "gpuType": "T4"
    },
    "kernelspec": {
      "name": "python3",
      "display_name": "Python 3"
    },
    "language_info": {
      "name": "python"
    }
  },
  "cells": [
    {
      "cell_type": "code",
      "source": [
        "class Human:\n",
        "    def __init__(self, name, age):\n",
        "        self.name = name\n",
        "        self.age = age\n",
        "\n",
        "    def check_adult(self):\n",
        "        if self.age >= 20:\n",
        "            print(f\"{self.name}さんは大人です。\")\n",
        "        else:\n",
        "            print(f\"{self.name}さんは大人ではありません。\")\n",
        "\n",
        "# Humanクラスのインスタンスを複数生成してリストに追加\n",
        "human_list = []\n",
        "human_list.append(Human(\"侍太郎\", 36))\n",
        "human_list.append(Human(\"Ninja\", 18))\n",
        "human_list.append(Human(\"織田信長\", 49))\n",
        "human_list.append(Human(\"徳川家康\", 75))\n",
        "human_list.append(Human(\"卑弥呼\", 17))\n",
        "\n",
        "# リストの要素数分だけcheck_adultメソッドを呼び出す\n",
        "for human in human_list:\n",
        "    human.check_adult()\n",
        ""
      ],
      "metadata": {
        "colab": {
          "base_uri": "https://localhost:8080/"
        },
        "id": "SS6mpFp7UsCP",
        "outputId": "ade0c0df-aec5-435a-db31-f66d3e6463f6"
      },
      "execution_count": 13,
      "outputs": [
        {
          "output_type": "stream",
          "name": "stdout",
          "text": [
            "侍太郎さんは大人です。\n",
            "Ninjaさんは大人ではありません。\n",
            "織田信長さんは大人です。\n",
            "徳川家康さんは大人です。\n",
            "卑弥呼さんは大人ではありません。\n"
          ]
        }
      ]
    }
  ]
}